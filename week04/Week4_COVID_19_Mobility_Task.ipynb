{
 "cells": [
  {
   "cell_type": "markdown",
   "metadata": {
    "id": "2IU8vPgFTAbG"
   },
   "source": [
    "# Week 04: Exploratory Data Analysis"
   ]
  },
  {
   "cell_type": "markdown",
   "metadata": {
    "id": "dSzVhu-aTAbH"
   },
   "source": [
    "## COVID-19 Community Mobility Data\n",
    "\n",
    "\n",
    "In this task, we will practice using exploratory data analysis on\n",
    "Google’s COVID-19 Community Mobility data.\n",
    "\n",
    "This data was collected from Google Maps users around the world over the\n",
    "last few months - including you, *if* you have Google Maps on your phone\n",
    "and have turned on the Location History setting. It combines location\n",
    "history from a large number of users to capture the overall increase or\n",
    "decrease in time spent in places such as: retail and recreation\n",
    "facilities, groceries and pharmacies, parks, transit stations,\n",
    "workplaces, and residences."
   ]
  },
  {
   "cell_type": "markdown",
   "metadata": {
    "id": "MySC75cNTAbI"
   },
   "source": [
    "Learn about the data\n",
    "--------------------\n",
    "\n",
    "First, it is worthwhile to learn more about the data: how it is\n",
    "collected, what is included, how Google gets consent to collect this\n",
    "data, and how user privacy is protected. Google provides several\n",
    "resources for learning about the data:\n",
    "\n",
    "-   [Blog\n",
    "    post](https://www.blog.google/technology/health/covid-19-community-mobility-reports?hl=en)\n",
    "-   [About this\n",
    "    data](https://www.google.com/covid19/mobility/data_documentation.html?hl=en#about-this-data)\n",
    "-   [Understand the\n",
    "    data](https://support.google.com/covid19-mobility/answer/9825414?hl=en&ref_topic=9822927)"
   ]
  },
  {
   "cell_type": "markdown",
   "metadata": {
    "id": "ZuMxjnsXTAbJ"
   },
   "source": [
    "Read in data\n",
    "------------\n",
    "\n",
    "Now you are ready to read the data into your notebook.\n",
    "\n",
    "Visit Google’s web page for the [COVID-19 Community\n",
    "Mobility](https://www.google.com/covid19/mobility/) project to get the\n",
    "URL for the data."
   ]
  },
  {
   "cell_type": "code",
   "execution_count": 1,
   "metadata": {
    "id": "svcQqtFUTAbK"
   },
   "outputs": [],
   "source": [
    "import pandas as pd\n",
    "import seaborn as sns\n",
    "import matplotlib.pyplot as plt"
   ]
  },
  {
   "cell_type": "code",
   "execution_count": 2,
   "metadata": {
    "id": "v4PWbQeqTAbQ"
   },
   "outputs": [
    {
     "name": "stderr",
     "output_type": "stream",
     "text": [
      "/Users/kris/Documents/gen_dev/venv/lib/python3.8/site-packages/IPython/core/interactiveshell.py:3169: DtypeWarning: Columns (4,5) have mixed types.Specify dtype option on import or set low_memory=False.\n",
      "  has_raised = await self.run_ast_nodes(code_ast.body, cell_name,\n"
     ]
    }
   ],
   "source": [
    "# Import the URL\n",
    "\n",
    "url = 'https://www.gstatic.com/covid19/mobility/Global_Mobility_Report.csv'\n",
    "df = pd.read_csv(url)"
   ]
  },
  {
   "cell_type": "markdown",
   "metadata": {
    "id": "mQ5uQbSbTAbW"
   },
   "source": [
    "### TODO 1\n",
    "\n",
    "Use the `head()` function to look at the first few samples"
   ]
  },
  {
   "cell_type": "code",
   "execution_count": 3,
   "metadata": {
    "id": "skRlis3dTAbd"
   },
   "outputs": [
    {
     "data": {
      "text/html": [
       "<div>\n",
       "<style scoped>\n",
       "    .dataframe tbody tr th:only-of-type {\n",
       "        vertical-align: middle;\n",
       "    }\n",
       "\n",
       "    .dataframe tbody tr th {\n",
       "        vertical-align: top;\n",
       "    }\n",
       "\n",
       "    .dataframe thead th {\n",
       "        text-align: right;\n",
       "    }\n",
       "</style>\n",
       "<table border=\"1\" class=\"dataframe\">\n",
       "  <thead>\n",
       "    <tr style=\"text-align: right;\">\n",
       "      <th></th>\n",
       "      <th>country_region_code</th>\n",
       "      <th>country_region</th>\n",
       "      <th>sub_region_1</th>\n",
       "      <th>sub_region_2</th>\n",
       "      <th>metro_area</th>\n",
       "      <th>iso_3166_2_code</th>\n",
       "      <th>census_fips_code</th>\n",
       "      <th>place_id</th>\n",
       "      <th>date</th>\n",
       "      <th>retail_and_recreation_percent_change_from_baseline</th>\n",
       "      <th>grocery_and_pharmacy_percent_change_from_baseline</th>\n",
       "      <th>parks_percent_change_from_baseline</th>\n",
       "      <th>transit_stations_percent_change_from_baseline</th>\n",
       "      <th>workplaces_percent_change_from_baseline</th>\n",
       "      <th>residential_percent_change_from_baseline</th>\n",
       "    </tr>\n",
       "  </thead>\n",
       "  <tbody>\n",
       "    <tr>\n",
       "      <th>0</th>\n",
       "      <td>AE</td>\n",
       "      <td>United Arab Emirates</td>\n",
       "      <td>NaN</td>\n",
       "      <td>NaN</td>\n",
       "      <td>NaN</td>\n",
       "      <td>NaN</td>\n",
       "      <td>NaN</td>\n",
       "      <td>ChIJvRKrsd9IXj4RpwoIwFYv0zM</td>\n",
       "      <td>2020-02-15</td>\n",
       "      <td>0.0</td>\n",
       "      <td>4.0</td>\n",
       "      <td>5.0</td>\n",
       "      <td>0.0</td>\n",
       "      <td>2.0</td>\n",
       "      <td>1.0</td>\n",
       "    </tr>\n",
       "    <tr>\n",
       "      <th>1</th>\n",
       "      <td>AE</td>\n",
       "      <td>United Arab Emirates</td>\n",
       "      <td>NaN</td>\n",
       "      <td>NaN</td>\n",
       "      <td>NaN</td>\n",
       "      <td>NaN</td>\n",
       "      <td>NaN</td>\n",
       "      <td>ChIJvRKrsd9IXj4RpwoIwFYv0zM</td>\n",
       "      <td>2020-02-16</td>\n",
       "      <td>1.0</td>\n",
       "      <td>4.0</td>\n",
       "      <td>4.0</td>\n",
       "      <td>1.0</td>\n",
       "      <td>2.0</td>\n",
       "      <td>1.0</td>\n",
       "    </tr>\n",
       "    <tr>\n",
       "      <th>2</th>\n",
       "      <td>AE</td>\n",
       "      <td>United Arab Emirates</td>\n",
       "      <td>NaN</td>\n",
       "      <td>NaN</td>\n",
       "      <td>NaN</td>\n",
       "      <td>NaN</td>\n",
       "      <td>NaN</td>\n",
       "      <td>ChIJvRKrsd9IXj4RpwoIwFYv0zM</td>\n",
       "      <td>2020-02-17</td>\n",
       "      <td>-1.0</td>\n",
       "      <td>1.0</td>\n",
       "      <td>5.0</td>\n",
       "      <td>1.0</td>\n",
       "      <td>2.0</td>\n",
       "      <td>1.0</td>\n",
       "    </tr>\n",
       "    <tr>\n",
       "      <th>3</th>\n",
       "      <td>AE</td>\n",
       "      <td>United Arab Emirates</td>\n",
       "      <td>NaN</td>\n",
       "      <td>NaN</td>\n",
       "      <td>NaN</td>\n",
       "      <td>NaN</td>\n",
       "      <td>NaN</td>\n",
       "      <td>ChIJvRKrsd9IXj4RpwoIwFYv0zM</td>\n",
       "      <td>2020-02-18</td>\n",
       "      <td>-2.0</td>\n",
       "      <td>1.0</td>\n",
       "      <td>5.0</td>\n",
       "      <td>0.0</td>\n",
       "      <td>2.0</td>\n",
       "      <td>1.0</td>\n",
       "    </tr>\n",
       "    <tr>\n",
       "      <th>4</th>\n",
       "      <td>AE</td>\n",
       "      <td>United Arab Emirates</td>\n",
       "      <td>NaN</td>\n",
       "      <td>NaN</td>\n",
       "      <td>NaN</td>\n",
       "      <td>NaN</td>\n",
       "      <td>NaN</td>\n",
       "      <td>ChIJvRKrsd9IXj4RpwoIwFYv0zM</td>\n",
       "      <td>2020-02-19</td>\n",
       "      <td>-2.0</td>\n",
       "      <td>0.0</td>\n",
       "      <td>4.0</td>\n",
       "      <td>-1.0</td>\n",
       "      <td>2.0</td>\n",
       "      <td>1.0</td>\n",
       "    </tr>\n",
       "  </tbody>\n",
       "</table>\n",
       "</div>"
      ],
      "text/plain": [
       "  country_region_code        country_region sub_region_1 sub_region_2  \\\n",
       "0                  AE  United Arab Emirates          NaN          NaN   \n",
       "1                  AE  United Arab Emirates          NaN          NaN   \n",
       "2                  AE  United Arab Emirates          NaN          NaN   \n",
       "3                  AE  United Arab Emirates          NaN          NaN   \n",
       "4                  AE  United Arab Emirates          NaN          NaN   \n",
       "\n",
       "  metro_area iso_3166_2_code  census_fips_code                     place_id  \\\n",
       "0        NaN             NaN               NaN  ChIJvRKrsd9IXj4RpwoIwFYv0zM   \n",
       "1        NaN             NaN               NaN  ChIJvRKrsd9IXj4RpwoIwFYv0zM   \n",
       "2        NaN             NaN               NaN  ChIJvRKrsd9IXj4RpwoIwFYv0zM   \n",
       "3        NaN             NaN               NaN  ChIJvRKrsd9IXj4RpwoIwFYv0zM   \n",
       "4        NaN             NaN               NaN  ChIJvRKrsd9IXj4RpwoIwFYv0zM   \n",
       "\n",
       "         date  retail_and_recreation_percent_change_from_baseline  \\\n",
       "0  2020-02-15                                                0.0    \n",
       "1  2020-02-16                                                1.0    \n",
       "2  2020-02-17                                               -1.0    \n",
       "3  2020-02-18                                               -2.0    \n",
       "4  2020-02-19                                               -2.0    \n",
       "\n",
       "   grocery_and_pharmacy_percent_change_from_baseline  \\\n",
       "0                                                4.0   \n",
       "1                                                4.0   \n",
       "2                                                1.0   \n",
       "3                                                1.0   \n",
       "4                                                0.0   \n",
       "\n",
       "   parks_percent_change_from_baseline  \\\n",
       "0                                 5.0   \n",
       "1                                 4.0   \n",
       "2                                 5.0   \n",
       "3                                 5.0   \n",
       "4                                 4.0   \n",
       "\n",
       "   transit_stations_percent_change_from_baseline  \\\n",
       "0                                            0.0   \n",
       "1                                            1.0   \n",
       "2                                            1.0   \n",
       "3                                            0.0   \n",
       "4                                           -1.0   \n",
       "\n",
       "   workplaces_percent_change_from_baseline  \\\n",
       "0                                      2.0   \n",
       "1                                      2.0   \n",
       "2                                      2.0   \n",
       "3                                      2.0   \n",
       "4                                      2.0   \n",
       "\n",
       "   residential_percent_change_from_baseline  \n",
       "0                                       1.0  \n",
       "1                                       1.0  \n",
       "2                                       1.0  \n",
       "3                                       1.0  \n",
       "4                                       1.0  "
      ]
     },
     "execution_count": 3,
     "metadata": {},
     "output_type": "execute_result"
    }
   ],
   "source": [
    "# Run code here\n",
    "\n",
    "df.head()"
   ]
  },
  {
   "cell_type": "markdown",
   "metadata": {
    "id": "jxypCpAhcKAn"
   },
   "source": [
    "### TODO 2\n",
    "\n",
    "Use the `info()` function to look at the information"
   ]
  },
  {
   "cell_type": "code",
   "execution_count": 4,
   "metadata": {
    "id": "43-cCRfpTAbX"
   },
   "outputs": [
    {
     "name": "stdout",
     "output_type": "stream",
     "text": [
      "<class 'pandas.core.frame.DataFrame'>\n",
      "RangeIndex: 6007248 entries, 0 to 6007247\n",
      "Data columns (total 15 columns):\n",
      " #   Column                                              Dtype  \n",
      "---  ------                                              -----  \n",
      " 0   country_region_code                                 object \n",
      " 1   country_region                                      object \n",
      " 2   sub_region_1                                        object \n",
      " 3   sub_region_2                                        object \n",
      " 4   metro_area                                          object \n",
      " 5   iso_3166_2_code                                     object \n",
      " 6   census_fips_code                                    float64\n",
      " 7   place_id                                            object \n",
      " 8   date                                                object \n",
      " 9   retail_and_recreation_percent_change_from_baseline  float64\n",
      " 10  grocery_and_pharmacy_percent_change_from_baseline   float64\n",
      " 11  parks_percent_change_from_baseline                  float64\n",
      " 12  transit_stations_percent_change_from_baseline       float64\n",
      " 13  workplaces_percent_change_from_baseline             float64\n",
      " 14  residential_percent_change_from_baseline            float64\n",
      "dtypes: float64(7), object(8)\n",
      "memory usage: 687.5+ MB\n"
     ]
    }
   ],
   "source": [
    "# Run code here\n",
    "\n",
    "df.info()"
   ]
  },
  {
   "cell_type": "markdown",
   "metadata": {
    "id": "Iw0YZ-I5TAbi"
   },
   "source": [
    "Basic data manipulations\n",
    "------------------------"
   ]
  },
  {
   "cell_type": "markdown",
   "metadata": {
    "id": "sTABdHNlTAbk"
   },
   "source": [
    "### TODO 3\n",
    "\n",
    "The data includes a date field, but it may have been read in as a\n",
    "string, rather than as a `datetime`. If that’s the case, use\n",
    "`to_datetime()` to convert the field into a datetime format. (You can\n",
    "follow the example in the “Exploratory data analysis” notebook from this\n",
    "week’s lesson.)\n",
    "\n",
    "Then, use `info()` again to make sure your change was applied. Note the\n",
    "difference in the output, relative to the cell above."
   ]
  },
  {
   "cell_type": "code",
   "execution_count": 5,
   "metadata": {
    "id": "P-PKfC2ITAbm"
   },
   "outputs": [
    {
     "name": "stdout",
     "output_type": "stream",
     "text": [
      "<class 'pandas.core.frame.DataFrame'>\n",
      "RangeIndex: 6007248 entries, 0 to 6007247\n",
      "Data columns (total 15 columns):\n",
      " #   Column                                              Dtype         \n",
      "---  ------                                              -----         \n",
      " 0   country_region_code                                 object        \n",
      " 1   country_region                                      object        \n",
      " 2   sub_region_1                                        object        \n",
      " 3   sub_region_2                                        object        \n",
      " 4   metro_area                                          object        \n",
      " 5   iso_3166_2_code                                     object        \n",
      " 6   census_fips_code                                    float64       \n",
      " 7   place_id                                            object        \n",
      " 8   date                                                datetime64[ns]\n",
      " 9   retail_and_recreation_percent_change_from_baseline  float64       \n",
      " 10  grocery_and_pharmacy_percent_change_from_baseline   float64       \n",
      " 11  parks_percent_change_from_baseline                  float64       \n",
      " 12  transit_stations_percent_change_from_baseline       float64       \n",
      " 13  workplaces_percent_change_from_baseline             float64       \n",
      " 14  residential_percent_change_from_baseline            float64       \n",
      "dtypes: datetime64[ns](1), float64(7), object(7)\n",
      "memory usage: 687.5+ MB\n"
     ]
    }
   ],
   "source": [
    "# Run code here\n",
    "\n",
    "df['date']=pd.to_datetime(df['date'])\n",
    "df.info()"
   ]
  },
  {
   "cell_type": "markdown",
   "metadata": {
    "id": "QGjAp1D7TAbq"
   },
   "source": [
    "### TODO 4\n",
    "\n",
    "Next, you are going to extract the subset of data for the location of\n",
    "your choice.\n",
    "\n",
    "The data is reported for different regions, with different levels of\n",
    "granularity available. This is best explained by example:\n",
    "\n",
    "Suppose I want the overall trend from the entire U.S. I would use the\n",
    "subset of data where `country_region` is equal to “United States” and\n",
    "`sub_region_1` is null:\n",
    "\n",
    "    df_subset = df[(df['country_region'].eq(\"United States\")) & (df['sub_region_1'].isnull())]\n",
    "\n",
    "Suppose I want the overall trend from the entire state of New York: I\n",
    "would use the subset of data where `country_region` is equal to “United\n",
    "States”, `sub_region_1` is equal to “New York”, and `sub_region_2` is\n",
    "null:\n",
    "\n",
    "    df_subset = df[(df['country_region'].eq(\"United States\")) & (df['sub_region_1'].eq(\"New York\")) & (df['sub_region_2'].isnull())]\n",
    "\n",
    "Suppose I want the overall trend from Brooklyn, New York (Kings County):\n",
    "I would use the subset of data where `country_region` is equal to\n",
    "“United States”, `sub_region_1` is equal to “New York”, and\n",
    "`sub_region_2` is equal to “Kings County”:\n",
    "\n",
    "    df_subset = df[(df['country_region'].eq(\"United States\")) & (df['sub_region_1'].eq(\"New York\")) & (df['sub_region_2'].eq(\"Kings County\"))]\n",
    "\n",
    "In the following cell(s), fill in the code to create a data frame\n",
    "`df_subset` with data from a single location. You can go down to the\n",
    "`sub_region_1` level or the `sub_region_2` level - depending on the\n",
    "location you chose, the finer level of granularity may not be available."
   ]
  },
  {
   "cell_type": "code",
   "execution_count": 6,
   "metadata": {
    "id": "FtOsm54HmpS1"
   },
   "outputs": [],
   "source": [
    "# Run code here\n",
    "\n",
    "df_subset = df[(df['country_region'].eq('Canada')) & \n",
    "               (df['sub_region_1'].eq('British Columbia')) & \n",
    "               (df['sub_region_2'].eq('Metro Vancouver'))]"
   ]
  },
  {
   "cell_type": "code",
   "execution_count": 7,
   "metadata": {
    "id": "BBvEDSf9mtwx"
   },
   "outputs": [
    {
     "data": {
      "text/html": [
       "<div>\n",
       "<style scoped>\n",
       "    .dataframe tbody tr th:only-of-type {\n",
       "        vertical-align: middle;\n",
       "    }\n",
       "\n",
       "    .dataframe tbody tr th {\n",
       "        vertical-align: top;\n",
       "    }\n",
       "\n",
       "    .dataframe thead th {\n",
       "        text-align: right;\n",
       "    }\n",
       "</style>\n",
       "<table border=\"1\" class=\"dataframe\">\n",
       "  <thead>\n",
       "    <tr style=\"text-align: right;\">\n",
       "      <th></th>\n",
       "      <th>country_region_code</th>\n",
       "      <th>country_region</th>\n",
       "      <th>sub_region_1</th>\n",
       "      <th>sub_region_2</th>\n",
       "      <th>metro_area</th>\n",
       "      <th>iso_3166_2_code</th>\n",
       "      <th>census_fips_code</th>\n",
       "      <th>place_id</th>\n",
       "      <th>date</th>\n",
       "      <th>retail_and_recreation_percent_change_from_baseline</th>\n",
       "      <th>grocery_and_pharmacy_percent_change_from_baseline</th>\n",
       "      <th>parks_percent_change_from_baseline</th>\n",
       "      <th>transit_stations_percent_change_from_baseline</th>\n",
       "      <th>workplaces_percent_change_from_baseline</th>\n",
       "      <th>residential_percent_change_from_baseline</th>\n",
       "    </tr>\n",
       "  </thead>\n",
       "  <tbody>\n",
       "    <tr>\n",
       "      <th>1527417</th>\n",
       "      <td>CA</td>\n",
       "      <td>Canada</td>\n",
       "      <td>British Columbia</td>\n",
       "      <td>Metro Vancouver</td>\n",
       "      <td>NaN</td>\n",
       "      <td>NaN</td>\n",
       "      <td>NaN</td>\n",
       "      <td>ChIJpd_5BZDOYlQRpvz0npdsnM4</td>\n",
       "      <td>2020-02-15</td>\n",
       "      <td>-4.0</td>\n",
       "      <td>-2.0</td>\n",
       "      <td>-17.0</td>\n",
       "      <td>-1.0</td>\n",
       "      <td>-5.0</td>\n",
       "      <td>1.0</td>\n",
       "    </tr>\n",
       "    <tr>\n",
       "      <th>1527418</th>\n",
       "      <td>CA</td>\n",
       "      <td>Canada</td>\n",
       "      <td>British Columbia</td>\n",
       "      <td>Metro Vancouver</td>\n",
       "      <td>NaN</td>\n",
       "      <td>NaN</td>\n",
       "      <td>NaN</td>\n",
       "      <td>ChIJpd_5BZDOYlQRpvz0npdsnM4</td>\n",
       "      <td>2020-02-16</td>\n",
       "      <td>8.0</td>\n",
       "      <td>0.0</td>\n",
       "      <td>38.0</td>\n",
       "      <td>9.0</td>\n",
       "      <td>-2.0</td>\n",
       "      <td>-2.0</td>\n",
       "    </tr>\n",
       "    <tr>\n",
       "      <th>1527419</th>\n",
       "      <td>CA</td>\n",
       "      <td>Canada</td>\n",
       "      <td>British Columbia</td>\n",
       "      <td>Metro Vancouver</td>\n",
       "      <td>NaN</td>\n",
       "      <td>NaN</td>\n",
       "      <td>NaN</td>\n",
       "      <td>ChIJpd_5BZDOYlQRpvz0npdsnM4</td>\n",
       "      <td>2020-02-17</td>\n",
       "      <td>9.0</td>\n",
       "      <td>14.0</td>\n",
       "      <td>122.0</td>\n",
       "      <td>-27.0</td>\n",
       "      <td>-70.0</td>\n",
       "      <td>14.0</td>\n",
       "    </tr>\n",
       "    <tr>\n",
       "      <th>1527420</th>\n",
       "      <td>CA</td>\n",
       "      <td>Canada</td>\n",
       "      <td>British Columbia</td>\n",
       "      <td>Metro Vancouver</td>\n",
       "      <td>NaN</td>\n",
       "      <td>NaN</td>\n",
       "      <td>NaN</td>\n",
       "      <td>ChIJpd_5BZDOYlQRpvz0npdsnM4</td>\n",
       "      <td>2020-02-18</td>\n",
       "      <td>3.0</td>\n",
       "      <td>7.0</td>\n",
       "      <td>64.0</td>\n",
       "      <td>-1.0</td>\n",
       "      <td>1.0</td>\n",
       "      <td>0.0</td>\n",
       "    </tr>\n",
       "    <tr>\n",
       "      <th>1527421</th>\n",
       "      <td>CA</td>\n",
       "      <td>Canada</td>\n",
       "      <td>British Columbia</td>\n",
       "      <td>Metro Vancouver</td>\n",
       "      <td>NaN</td>\n",
       "      <td>NaN</td>\n",
       "      <td>NaN</td>\n",
       "      <td>ChIJpd_5BZDOYlQRpvz0npdsnM4</td>\n",
       "      <td>2020-02-19</td>\n",
       "      <td>6.0</td>\n",
       "      <td>3.0</td>\n",
       "      <td>49.0</td>\n",
       "      <td>3.0</td>\n",
       "      <td>0.0</td>\n",
       "      <td>0.0</td>\n",
       "    </tr>\n",
       "    <tr>\n",
       "      <th>...</th>\n",
       "      <td>...</td>\n",
       "      <td>...</td>\n",
       "      <td>...</td>\n",
       "      <td>...</td>\n",
       "      <td>...</td>\n",
       "      <td>...</td>\n",
       "      <td>...</td>\n",
       "      <td>...</td>\n",
       "      <td>...</td>\n",
       "      <td>...</td>\n",
       "      <td>...</td>\n",
       "      <td>...</td>\n",
       "      <td>...</td>\n",
       "      <td>...</td>\n",
       "      <td>...</td>\n",
       "    </tr>\n",
       "    <tr>\n",
       "      <th>1527917</th>\n",
       "      <td>CA</td>\n",
       "      <td>Canada</td>\n",
       "      <td>British Columbia</td>\n",
       "      <td>Metro Vancouver</td>\n",
       "      <td>NaN</td>\n",
       "      <td>NaN</td>\n",
       "      <td>NaN</td>\n",
       "      <td>ChIJpd_5BZDOYlQRpvz0npdsnM4</td>\n",
       "      <td>2021-06-29</td>\n",
       "      <td>-12.0</td>\n",
       "      <td>14.0</td>\n",
       "      <td>105.0</td>\n",
       "      <td>-50.0</td>\n",
       "      <td>-40.0</td>\n",
       "      <td>9.0</td>\n",
       "    </tr>\n",
       "    <tr>\n",
       "      <th>1527918</th>\n",
       "      <td>CA</td>\n",
       "      <td>Canada</td>\n",
       "      <td>British Columbia</td>\n",
       "      <td>Metro Vancouver</td>\n",
       "      <td>NaN</td>\n",
       "      <td>NaN</td>\n",
       "      <td>NaN</td>\n",
       "      <td>ChIJpd_5BZDOYlQRpvz0npdsnM4</td>\n",
       "      <td>2021-06-30</td>\n",
       "      <td>-5.0</td>\n",
       "      <td>18.0</td>\n",
       "      <td>110.0</td>\n",
       "      <td>-42.0</td>\n",
       "      <td>-41.0</td>\n",
       "      <td>8.0</td>\n",
       "    </tr>\n",
       "    <tr>\n",
       "      <th>1527919</th>\n",
       "      <td>CA</td>\n",
       "      <td>Canada</td>\n",
       "      <td>British Columbia</td>\n",
       "      <td>Metro Vancouver</td>\n",
       "      <td>NaN</td>\n",
       "      <td>NaN</td>\n",
       "      <td>NaN</td>\n",
       "      <td>ChIJpd_5BZDOYlQRpvz0npdsnM4</td>\n",
       "      <td>2021-07-01</td>\n",
       "      <td>-12.0</td>\n",
       "      <td>16.0</td>\n",
       "      <td>181.0</td>\n",
       "      <td>-53.0</td>\n",
       "      <td>-76.0</td>\n",
       "      <td>16.0</td>\n",
       "    </tr>\n",
       "    <tr>\n",
       "      <th>1527920</th>\n",
       "      <td>CA</td>\n",
       "      <td>Canada</td>\n",
       "      <td>British Columbia</td>\n",
       "      <td>Metro Vancouver</td>\n",
       "      <td>NaN</td>\n",
       "      <td>NaN</td>\n",
       "      <td>NaN</td>\n",
       "      <td>ChIJpd_5BZDOYlQRpvz0npdsnM4</td>\n",
       "      <td>2021-07-02</td>\n",
       "      <td>-17.0</td>\n",
       "      <td>12.0</td>\n",
       "      <td>111.0</td>\n",
       "      <td>-47.0</td>\n",
       "      <td>-50.0</td>\n",
       "      <td>11.0</td>\n",
       "    </tr>\n",
       "    <tr>\n",
       "      <th>1527921</th>\n",
       "      <td>CA</td>\n",
       "      <td>Canada</td>\n",
       "      <td>British Columbia</td>\n",
       "      <td>Metro Vancouver</td>\n",
       "      <td>NaN</td>\n",
       "      <td>NaN</td>\n",
       "      <td>NaN</td>\n",
       "      <td>ChIJpd_5BZDOYlQRpvz0npdsnM4</td>\n",
       "      <td>2021-07-03</td>\n",
       "      <td>-21.0</td>\n",
       "      <td>2.0</td>\n",
       "      <td>97.0</td>\n",
       "      <td>-40.0</td>\n",
       "      <td>-18.0</td>\n",
       "      <td>3.0</td>\n",
       "    </tr>\n",
       "  </tbody>\n",
       "</table>\n",
       "<p>505 rows × 15 columns</p>\n",
       "</div>"
      ],
      "text/plain": [
       "        country_region_code country_region      sub_region_1     sub_region_2  \\\n",
       "1527417                  CA         Canada  British Columbia  Metro Vancouver   \n",
       "1527418                  CA         Canada  British Columbia  Metro Vancouver   \n",
       "1527419                  CA         Canada  British Columbia  Metro Vancouver   \n",
       "1527420                  CA         Canada  British Columbia  Metro Vancouver   \n",
       "1527421                  CA         Canada  British Columbia  Metro Vancouver   \n",
       "...                     ...            ...               ...              ...   \n",
       "1527917                  CA         Canada  British Columbia  Metro Vancouver   \n",
       "1527918                  CA         Canada  British Columbia  Metro Vancouver   \n",
       "1527919                  CA         Canada  British Columbia  Metro Vancouver   \n",
       "1527920                  CA         Canada  British Columbia  Metro Vancouver   \n",
       "1527921                  CA         Canada  British Columbia  Metro Vancouver   \n",
       "\n",
       "        metro_area iso_3166_2_code  census_fips_code  \\\n",
       "1527417        NaN             NaN               NaN   \n",
       "1527418        NaN             NaN               NaN   \n",
       "1527419        NaN             NaN               NaN   \n",
       "1527420        NaN             NaN               NaN   \n",
       "1527421        NaN             NaN               NaN   \n",
       "...            ...             ...               ...   \n",
       "1527917        NaN             NaN               NaN   \n",
       "1527918        NaN             NaN               NaN   \n",
       "1527919        NaN             NaN               NaN   \n",
       "1527920        NaN             NaN               NaN   \n",
       "1527921        NaN             NaN               NaN   \n",
       "\n",
       "                            place_id       date  \\\n",
       "1527417  ChIJpd_5BZDOYlQRpvz0npdsnM4 2020-02-15   \n",
       "1527418  ChIJpd_5BZDOYlQRpvz0npdsnM4 2020-02-16   \n",
       "1527419  ChIJpd_5BZDOYlQRpvz0npdsnM4 2020-02-17   \n",
       "1527420  ChIJpd_5BZDOYlQRpvz0npdsnM4 2020-02-18   \n",
       "1527421  ChIJpd_5BZDOYlQRpvz0npdsnM4 2020-02-19   \n",
       "...                              ...        ...   \n",
       "1527917  ChIJpd_5BZDOYlQRpvz0npdsnM4 2021-06-29   \n",
       "1527918  ChIJpd_5BZDOYlQRpvz0npdsnM4 2021-06-30   \n",
       "1527919  ChIJpd_5BZDOYlQRpvz0npdsnM4 2021-07-01   \n",
       "1527920  ChIJpd_5BZDOYlQRpvz0npdsnM4 2021-07-02   \n",
       "1527921  ChIJpd_5BZDOYlQRpvz0npdsnM4 2021-07-03   \n",
       "\n",
       "         retail_and_recreation_percent_change_from_baseline  \\\n",
       "1527417                                               -4.0    \n",
       "1527418                                                8.0    \n",
       "1527419                                                9.0    \n",
       "1527420                                                3.0    \n",
       "1527421                                                6.0    \n",
       "...                                                    ...    \n",
       "1527917                                              -12.0    \n",
       "1527918                                               -5.0    \n",
       "1527919                                              -12.0    \n",
       "1527920                                              -17.0    \n",
       "1527921                                              -21.0    \n",
       "\n",
       "         grocery_and_pharmacy_percent_change_from_baseline  \\\n",
       "1527417                                               -2.0   \n",
       "1527418                                                0.0   \n",
       "1527419                                               14.0   \n",
       "1527420                                                7.0   \n",
       "1527421                                                3.0   \n",
       "...                                                    ...   \n",
       "1527917                                               14.0   \n",
       "1527918                                               18.0   \n",
       "1527919                                               16.0   \n",
       "1527920                                               12.0   \n",
       "1527921                                                2.0   \n",
       "\n",
       "         parks_percent_change_from_baseline  \\\n",
       "1527417                               -17.0   \n",
       "1527418                                38.0   \n",
       "1527419                               122.0   \n",
       "1527420                                64.0   \n",
       "1527421                                49.0   \n",
       "...                                     ...   \n",
       "1527917                               105.0   \n",
       "1527918                               110.0   \n",
       "1527919                               181.0   \n",
       "1527920                               111.0   \n",
       "1527921                                97.0   \n",
       "\n",
       "         transit_stations_percent_change_from_baseline  \\\n",
       "1527417                                           -1.0   \n",
       "1527418                                            9.0   \n",
       "1527419                                          -27.0   \n",
       "1527420                                           -1.0   \n",
       "1527421                                            3.0   \n",
       "...                                                ...   \n",
       "1527917                                          -50.0   \n",
       "1527918                                          -42.0   \n",
       "1527919                                          -53.0   \n",
       "1527920                                          -47.0   \n",
       "1527921                                          -40.0   \n",
       "\n",
       "         workplaces_percent_change_from_baseline  \\\n",
       "1527417                                     -5.0   \n",
       "1527418                                     -2.0   \n",
       "1527419                                    -70.0   \n",
       "1527420                                      1.0   \n",
       "1527421                                      0.0   \n",
       "...                                          ...   \n",
       "1527917                                    -40.0   \n",
       "1527918                                    -41.0   \n",
       "1527919                                    -76.0   \n",
       "1527920                                    -50.0   \n",
       "1527921                                    -18.0   \n",
       "\n",
       "         residential_percent_change_from_baseline  \n",
       "1527417                                       1.0  \n",
       "1527418                                      -2.0  \n",
       "1527419                                      14.0  \n",
       "1527420                                       0.0  \n",
       "1527421                                       0.0  \n",
       "...                                           ...  \n",
       "1527917                                       9.0  \n",
       "1527918                                       8.0  \n",
       "1527919                                      16.0  \n",
       "1527920                                      11.0  \n",
       "1527921                                       3.0  \n",
       "\n",
       "[505 rows x 15 columns]"
      ]
     },
     "execution_count": 7,
     "metadata": {},
     "output_type": "execute_result"
    }
   ],
   "source": [
    "df_subset"
   ]
  },
  {
   "cell_type": "markdown",
   "metadata": {
    "id": "VVHLU2kQTAbx"
   },
   "source": [
    "### TODO 5\n",
    "\n",
    "Is the data complete, or is some data not available for the location you\n",
    "have chosen? In the following cell, write code to check for missing data\n",
    "in the `...percent_change_from_baseline` fields.\n",
    "\n",
    "**HINT:** Use `info()`"
   ]
  },
  {
   "cell_type": "code",
   "execution_count": 8,
   "metadata": {
    "id": "ac1mIisdTAby"
   },
   "outputs": [
    {
     "name": "stdout",
     "output_type": "stream",
     "text": [
      "<class 'pandas.core.frame.DataFrame'>\n",
      "Int64Index: 505 entries, 1527417 to 1527921\n",
      "Data columns (total 6 columns):\n",
      " #   Column                                              Non-Null Count  Dtype  \n",
      "---  ------                                              --------------  -----  \n",
      " 0   retail_and_recreation_percent_change_from_baseline  505 non-null    float64\n",
      " 1   grocery_and_pharmacy_percent_change_from_baseline   505 non-null    float64\n",
      " 2   parks_percent_change_from_baseline                  505 non-null    float64\n",
      " 3   transit_stations_percent_change_from_baseline       505 non-null    float64\n",
      " 4   workplaces_percent_change_from_baseline             505 non-null    float64\n",
      " 5   residential_percent_change_from_baseline            505 non-null    float64\n",
      "dtypes: float64(6)\n",
      "memory usage: 27.6 KB\n"
     ]
    }
   ],
   "source": [
    "# Run code here\n",
    "df_subset[['retail_and_recreation_percent_change_from_baseline', \n",
    "           'grocery_and_pharmacy_percent_change_from_baseline',\n",
    "           'parks_percent_change_from_baseline',\n",
    "           'transit_stations_percent_change_from_baseline',\n",
    "           'workplaces_percent_change_from_baseline',\n",
    "           'residential_percent_change_from_baseline']].info()"
   ]
  },
  {
   "cell_type": "markdown",
   "metadata": {
    "id": "AepdQWIBdT2B"
   },
   "source": [
    "### TODO 6\n",
    "\n",
    "Edit the cell to answer the following question: Is the\n",
    "data complete, or is some relevant data missing? Why would some\n",
    "locations only have partial data available (missing some\n",
    "`...percent_change_from_baseline` fields for some dates)? </br> \n",
    "**Include a short quote from the material you read in the “Learn about the data”\n",
    "section to answer this question.**"
   ]
  },
  {
   "cell_type": "markdown",
   "metadata": {
    "id": "evz8F_e2dghF"
   },
   "source": [
    "**Answer:** </br>\n",
    "\n",
    "   I'd say the data is incomplete although the data subset of the location I'm interested has no missing values in ...percentage_change_from_baseline. As Google mentioned in the decription of the data source, they <mark>do not share absolute number of visits</mark> and they also <mark>removed data of days with low visitors</mark>. Therefore, I believe the data is not complete."
   ]
  },
  {
   "cell_type": "markdown",
   "metadata": {
    "id": "a0WhR2DOTAb5"
   },
   "source": [
    "### TODO 7\n",
    "\n",
    "For this data, the `date` field is important, but we don’t necessarily\n",
    "care about the absolute date. Instead, we care about how many days have\n",
    "elapsed since the first confirmed case of COVID-19 in this location, how\n",
    "many days have elapsed since a “stay at home” order or similar rule was\n",
    "established in this location (if there was one) and how many days have\n",
    "elapsed since it was lifted (if applicable).\n",
    "\n",
    "For example, in New York, I might compute:\n",
    "\n",
    "    days_since_lockdown = (df_subset['date'] - pd.to_datetime('2020-03-20 00:00:00')).dt.days.values\n",
    "    # NYC lockdown March 20, 2020 https://www.nytimes.com/2020/03/20/us/coronavirus-today.html"
   ]
  },
  {
   "cell_type": "code",
   "execution_count": 9,
   "metadata": {
    "id": "5IIORbDKTAb6"
   },
   "outputs": [],
   "source": [
    "# Run code here\n",
    "\n",
    "days_since_lockdown = (df_subset['date'] - pd.to_datetime('2020-03-17 00:00:00')).dt.days.values"
   ]
  },
  {
   "cell_type": "markdown",
   "metadata": {
    "id": "mAYBqjOHTAb9"
   },
   "source": [
    "## Visualize data"
   ]
  },
  {
   "cell_type": "markdown",
   "metadata": {
    "id": "o7wDKVoUd5ze"
   },
   "source": [
    "### TODO 8\n",
    "\n",
    "Finally, we are going to visualize the changes in human mobility over\n",
    "this time, for the location you have chosen.\n",
    "\n",
    "In the following cell, create a figure with six subplots, arranged\n",
    "vertically. On the horizontal axis, put the\n",
    "`days_since...` array you computed in the previous cell. On the vertical\n",
    "axes, show:\n",
    "\n",
    "-   `retail_and_recreation_percent_change_from_baseline` in the top\n",
    "    subplot\n",
    "-   `grocery_and_pharmacy_percent_change_from_baseline` in the next\n",
    "    subplot\n",
    "-   `parks_percent_change_from_baseline` in the next subplot\n",
    "-   `transit_stations_percent_change_from_baseline` in the next subplot\n",
    "-   `workplaces_percent_change_from_baseline` in the next subplot\n",
    "-   `residential_percent_change_from_baseline` in the bottom subplot"
   ]
  },
  {
   "cell_type": "code",
   "execution_count": 10,
   "metadata": {
    "id": "g8Eo9nj4TAb-"
   },
   "outputs": [
    {
     "data": {
      "image/png": "[encoded data removed]",
      "text/plain": [
       "<Figure size 720x720 with 6 Axes>"
      ]
     },
     "metadata": {
      "needs_background": "light"
     },
     "output_type": "display_data"
    }
   ],
   "source": [
    "# Run code here\n",
    "\n",
    "fig, axs = plt.subplots(6, figsize=(10,10))\n",
    "\n",
    "axs[0].plot(days_since_lockdown, df_subset['retail_and_recreation_percent_change_from_baseline'])\n",
    "axs[1].plot(days_since_lockdown, df_subset['grocery_and_pharmacy_percent_change_from_baseline'])\n",
    "axs[2].plot(days_since_lockdown, df_subset['parks_percent_change_from_baseline'])\n",
    "axs[3].plot(days_since_lockdown, df_subset['transit_stations_percent_change_from_baseline'])\n",
    "axs[4].plot(days_since_lockdown, df_subset['workplaces_percent_change_from_baseline'])\n",
    "axs[5].plot(days_since_lockdown, df_subset['residential_percent_change_from_baseline'])\n",
    "\n",
    "plt.xlabel('days since March 17th')\n",
    "plt.show()"
   ]
  },
  {
   "cell_type": "markdown",
   "metadata": {
    "id": "1taejI8seDqo"
   },
   "source": [
    "### TODO 9\n",
    "\n",
    "Answer the following question: Do the results seem to\n",
    "satisfy “common sense”? Explain, citing specific data from your plot to\n",
    "support your answer."
   ]
  },
  {
   "cell_type": "markdown",
   "metadata": {
    "id": "Kep_PP6jeIL5"
   },
   "source": [
    "**Answer:** </br>\n",
    "\n",
    "Yes, it does. The plots shows the dramatic drop of 'retail and recreation', 'grocery and pharmacy', 'transit stations' and 'workplace', and as the pandemic is getting under control, the lines go up slowly. Also as shown in the plots around day 300, when Vancouver has a second lock-down the same pattern happened again."
   ]
  },
  {
   "cell_type": "markdown",
   "metadata": {
    "id": "LUpv40HieMlx"
   },
   "source": [
    "## Vaccination Data (For Reference)"
   ]
  },
  {
   "cell_type": "markdown",
   "metadata": {
    "id": "61uBc33OfKTp"
   },
   "source": [
    "Now, let's look at some vaccinated data"
   ]
  },
  {
   "cell_type": "code",
   "execution_count": 11,
   "metadata": {
    "id": "ZhCd9euUo4Hx"
   },
   "outputs": [],
   "source": [
    "df_vax = pd.read_csv('https://github.com/owid/covid-19-data/raw/master/public/data/vaccinations/us_state_vaccinations.csv')"
   ]
  },
  {
   "cell_type": "code",
   "execution_count": 12,
   "metadata": {
    "id": "TeQm-KFsfQg_"
   },
   "outputs": [
    {
     "data": {
      "text/html": [
       "<div>\n",
       "<style scoped>\n",
       "    .dataframe tbody tr th:only-of-type {\n",
       "        vertical-align: middle;\n",
       "    }\n",
       "\n",
       "    .dataframe tbody tr th {\n",
       "        vertical-align: top;\n",
       "    }\n",
       "\n",
       "    .dataframe thead th {\n",
       "        text-align: right;\n",
       "    }\n",
       "</style>\n",
       "<table border=\"1\" class=\"dataframe\">\n",
       "  <thead>\n",
       "    <tr style=\"text-align: right;\">\n",
       "      <th></th>\n",
       "      <th>date</th>\n",
       "      <th>location</th>\n",
       "      <th>total_vaccinations</th>\n",
       "      <th>total_distributed</th>\n",
       "      <th>people_vaccinated</th>\n",
       "      <th>people_fully_vaccinated_per_hundred</th>\n",
       "      <th>total_vaccinations_per_hundred</th>\n",
       "      <th>people_fully_vaccinated</th>\n",
       "      <th>people_vaccinated_per_hundred</th>\n",
       "      <th>distributed_per_hundred</th>\n",
       "      <th>daily_vaccinations_raw</th>\n",
       "      <th>daily_vaccinations</th>\n",
       "      <th>daily_vaccinations_per_million</th>\n",
       "      <th>share_doses_used</th>\n",
       "    </tr>\n",
       "  </thead>\n",
       "  <tbody>\n",
       "    <tr>\n",
       "      <th>0</th>\n",
       "      <td>2021-01-12</td>\n",
       "      <td>Alabama</td>\n",
       "      <td>78134.0</td>\n",
       "      <td>377025.0</td>\n",
       "      <td>70861.0</td>\n",
       "      <td>0.15</td>\n",
       "      <td>1.59</td>\n",
       "      <td>7270.0</td>\n",
       "      <td>1.45</td>\n",
       "      <td>7.69</td>\n",
       "      <td>NaN</td>\n",
       "      <td>NaN</td>\n",
       "      <td>NaN</td>\n",
       "      <td>0.207</td>\n",
       "    </tr>\n",
       "    <tr>\n",
       "      <th>1</th>\n",
       "      <td>2021-01-13</td>\n",
       "      <td>Alabama</td>\n",
       "      <td>84040.0</td>\n",
       "      <td>378975.0</td>\n",
       "      <td>74792.0</td>\n",
       "      <td>0.19</td>\n",
       "      <td>1.71</td>\n",
       "      <td>9245.0</td>\n",
       "      <td>1.53</td>\n",
       "      <td>7.73</td>\n",
       "      <td>5906.0</td>\n",
       "      <td>5906.0</td>\n",
       "      <td>1205.0</td>\n",
       "      <td>0.222</td>\n",
       "    </tr>\n",
       "    <tr>\n",
       "      <th>2</th>\n",
       "      <td>2021-01-14</td>\n",
       "      <td>Alabama</td>\n",
       "      <td>92300.0</td>\n",
       "      <td>435350.0</td>\n",
       "      <td>80480.0</td>\n",
       "      <td>NaN</td>\n",
       "      <td>1.88</td>\n",
       "      <td>NaN</td>\n",
       "      <td>1.64</td>\n",
       "      <td>8.88</td>\n",
       "      <td>8260.0</td>\n",
       "      <td>7083.0</td>\n",
       "      <td>1445.0</td>\n",
       "      <td>0.212</td>\n",
       "    </tr>\n",
       "    <tr>\n",
       "      <th>3</th>\n",
       "      <td>2021-01-15</td>\n",
       "      <td>Alabama</td>\n",
       "      <td>100567.0</td>\n",
       "      <td>444650.0</td>\n",
       "      <td>86956.0</td>\n",
       "      <td>0.28</td>\n",
       "      <td>2.05</td>\n",
       "      <td>13488.0</td>\n",
       "      <td>1.77</td>\n",
       "      <td>9.07</td>\n",
       "      <td>8267.0</td>\n",
       "      <td>7478.0</td>\n",
       "      <td>1525.0</td>\n",
       "      <td>0.226</td>\n",
       "    </tr>\n",
       "    <tr>\n",
       "      <th>4</th>\n",
       "      <td>2021-01-16</td>\n",
       "      <td>Alabama</td>\n",
       "      <td>NaN</td>\n",
       "      <td>NaN</td>\n",
       "      <td>NaN</td>\n",
       "      <td>NaN</td>\n",
       "      <td>NaN</td>\n",
       "      <td>NaN</td>\n",
       "      <td>NaN</td>\n",
       "      <td>NaN</td>\n",
       "      <td>7557.0</td>\n",
       "      <td>7498.0</td>\n",
       "      <td>1529.0</td>\n",
       "      <td>NaN</td>\n",
       "    </tr>\n",
       "  </tbody>\n",
       "</table>\n",
       "</div>"
      ],
      "text/plain": [
       "         date location  total_vaccinations  total_distributed  \\\n",
       "0  2021-01-12  Alabama             78134.0           377025.0   \n",
       "1  2021-01-13  Alabama             84040.0           378975.0   \n",
       "2  2021-01-14  Alabama             92300.0           435350.0   \n",
       "3  2021-01-15  Alabama            100567.0           444650.0   \n",
       "4  2021-01-16  Alabama                 NaN                NaN   \n",
       "\n",
       "   people_vaccinated  people_fully_vaccinated_per_hundred  \\\n",
       "0            70861.0                                 0.15   \n",
       "1            74792.0                                 0.19   \n",
       "2            80480.0                                  NaN   \n",
       "3            86956.0                                 0.28   \n",
       "4                NaN                                  NaN   \n",
       "\n",
       "   total_vaccinations_per_hundred  people_fully_vaccinated  \\\n",
       "0                            1.59                   7270.0   \n",
       "1                            1.71                   9245.0   \n",
       "2                            1.88                      NaN   \n",
       "3                            2.05                  13488.0   \n",
       "4                             NaN                      NaN   \n",
       "\n",
       "   people_vaccinated_per_hundred  distributed_per_hundred  \\\n",
       "0                           1.45                     7.69   \n",
       "1                           1.53                     7.73   \n",
       "2                           1.64                     8.88   \n",
       "3                           1.77                     9.07   \n",
       "4                            NaN                      NaN   \n",
       "\n",
       "   daily_vaccinations_raw  daily_vaccinations  daily_vaccinations_per_million  \\\n",
       "0                     NaN                 NaN                             NaN   \n",
       "1                  5906.0              5906.0                          1205.0   \n",
       "2                  8260.0              7083.0                          1445.0   \n",
       "3                  8267.0              7478.0                          1525.0   \n",
       "4                  7557.0              7498.0                          1529.0   \n",
       "\n",
       "   share_doses_used  \n",
       "0             0.207  \n",
       "1             0.222  \n",
       "2             0.212  \n",
       "3             0.226  \n",
       "4               NaN  "
      ]
     },
     "execution_count": 12,
     "metadata": {},
     "output_type": "execute_result"
    }
   ],
   "source": [
    "df_vax.head()"
   ]
  },
  {
   "cell_type": "code",
   "execution_count": 13,
   "metadata": {
    "id": "_N-V7A_1fY1L"
   },
   "outputs": [
    {
     "data": {
      "text/plain": [
       "(11528, 14)"
      ]
     },
     "execution_count": 13,
     "metadata": {},
     "output_type": "execute_result"
    }
   ],
   "source": [
    "df_vax.shape"
   ]
  },
  {
   "cell_type": "code",
   "execution_count": 14,
   "metadata": {
    "id": "kwfiQmdVpM00"
   },
   "outputs": [],
   "source": [
    "df_vax['date'] = pd.to_datetime(df_vax['date'])"
   ]
  },
  {
   "cell_type": "code",
   "execution_count": 15,
   "metadata": {
    "id": "luyq7Q2vo7Mt"
   },
   "outputs": [
    {
     "name": "stdout",
     "output_type": "stream",
     "text": [
      "<class 'pandas.core.frame.DataFrame'>\n",
      "Int64Index: 177 entries, 7080 to 7256\n",
      "Data columns (total 14 columns):\n",
      " #   Column                               Non-Null Count  Dtype         \n",
      "---  ------                               --------------  -----         \n",
      " 0   date                                 177 non-null    datetime64[ns]\n",
      " 1   location                             177 non-null    object        \n",
      " 2   total_vaccinations                   171 non-null    float64       \n",
      " 3   total_distributed                    171 non-null    float64       \n",
      " 4   people_vaccinated                    171 non-null    float64       \n",
      " 5   people_fully_vaccinated_per_hundred  170 non-null    float64       \n",
      " 6   total_vaccinations_per_hundred       171 non-null    float64       \n",
      " 7   people_fully_vaccinated              170 non-null    float64       \n",
      " 8   people_vaccinated_per_hundred        171 non-null    float64       \n",
      " 9   distributed_per_hundred              171 non-null    float64       \n",
      " 10  daily_vaccinations_raw               176 non-null    float64       \n",
      " 11  daily_vaccinations                   176 non-null    float64       \n",
      " 12  daily_vaccinations_per_million       176 non-null    float64       \n",
      " 13  share_doses_used                     171 non-null    float64       \n",
      "dtypes: datetime64[ns](1), float64(12), object(1)\n",
      "memory usage: 20.7+ KB\n"
     ]
    }
   ],
   "source": [
    "df_vax_subset = df_vax[df_vax['location'].eq('New York State')]\n",
    "df_vax_subset.info()"
   ]
  },
  {
   "cell_type": "code",
   "execution_count": 16,
   "metadata": {
    "id": "7dpyV8p0scBB"
   },
   "outputs": [],
   "source": [
    "url_cases = 'https://github.com/nytimes/covid-19-data/raw/master/us-states.csv'\n",
    "df_cases = pd.read_csv(url_cases)"
   ]
  },
  {
   "cell_type": "code",
   "execution_count": 17,
   "metadata": {
    "id": "1LUWKKt_gQTN"
   },
   "outputs": [
    {
     "data": {
      "text/html": [
       "<div>\n",
       "<style scoped>\n",
       "    .dataframe tbody tr th:only-of-type {\n",
       "        vertical-align: middle;\n",
       "    }\n",
       "\n",
       "    .dataframe tbody tr th {\n",
       "        vertical-align: top;\n",
       "    }\n",
       "\n",
       "    .dataframe thead th {\n",
       "        text-align: right;\n",
       "    }\n",
       "</style>\n",
       "<table border=\"1\" class=\"dataframe\">\n",
       "  <thead>\n",
       "    <tr style=\"text-align: right;\">\n",
       "      <th></th>\n",
       "      <th>date</th>\n",
       "      <th>state</th>\n",
       "      <th>fips</th>\n",
       "      <th>cases</th>\n",
       "      <th>deaths</th>\n",
       "    </tr>\n",
       "  </thead>\n",
       "  <tbody>\n",
       "    <tr>\n",
       "      <th>0</th>\n",
       "      <td>2020-01-21</td>\n",
       "      <td>Washington</td>\n",
       "      <td>53</td>\n",
       "      <td>1</td>\n",
       "      <td>0</td>\n",
       "    </tr>\n",
       "    <tr>\n",
       "      <th>1</th>\n",
       "      <td>2020-01-22</td>\n",
       "      <td>Washington</td>\n",
       "      <td>53</td>\n",
       "      <td>1</td>\n",
       "      <td>0</td>\n",
       "    </tr>\n",
       "    <tr>\n",
       "      <th>2</th>\n",
       "      <td>2020-01-23</td>\n",
       "      <td>Washington</td>\n",
       "      <td>53</td>\n",
       "      <td>1</td>\n",
       "      <td>0</td>\n",
       "    </tr>\n",
       "    <tr>\n",
       "      <th>3</th>\n",
       "      <td>2020-01-24</td>\n",
       "      <td>Illinois</td>\n",
       "      <td>17</td>\n",
       "      <td>1</td>\n",
       "      <td>0</td>\n",
       "    </tr>\n",
       "    <tr>\n",
       "      <th>4</th>\n",
       "      <td>2020-01-24</td>\n",
       "      <td>Washington</td>\n",
       "      <td>53</td>\n",
       "      <td>1</td>\n",
       "      <td>0</td>\n",
       "    </tr>\n",
       "  </tbody>\n",
       "</table>\n",
       "</div>"
      ],
      "text/plain": [
       "         date       state  fips  cases  deaths\n",
       "0  2020-01-21  Washington    53      1       0\n",
       "1  2020-01-22  Washington    53      1       0\n",
       "2  2020-01-23  Washington    53      1       0\n",
       "3  2020-01-24    Illinois    17      1       0\n",
       "4  2020-01-24  Washington    53      1       0"
      ]
     },
     "execution_count": 17,
     "metadata": {},
     "output_type": "execute_result"
    }
   ],
   "source": [
    "df_cases.head()"
   ]
  },
  {
   "cell_type": "code",
   "execution_count": 18,
   "metadata": {
    "id": "-cW9p6N_gUXD"
   },
   "outputs": [
    {
     "data": {
      "text/plain": [
       "(27074, 5)"
      ]
     },
     "execution_count": 18,
     "metadata": {},
     "output_type": "execute_result"
    }
   ],
   "source": [
    "df_cases.shape"
   ]
  },
  {
   "cell_type": "code",
   "execution_count": 19,
   "metadata": {
    "id": "FOMT0zZMgMtZ"
   },
   "outputs": [
    {
     "data": {
      "text/html": [
       "<div>\n",
       "<style scoped>\n",
       "    .dataframe tbody tr th:only-of-type {\n",
       "        vertical-align: middle;\n",
       "    }\n",
       "\n",
       "    .dataframe tbody tr th {\n",
       "        vertical-align: top;\n",
       "    }\n",
       "\n",
       "    .dataframe thead th {\n",
       "        text-align: right;\n",
       "    }\n",
       "</style>\n",
       "<table border=\"1\" class=\"dataframe\">\n",
       "  <thead>\n",
       "    <tr style=\"text-align: right;\">\n",
       "      <th></th>\n",
       "      <th>date</th>\n",
       "      <th>state</th>\n",
       "      <th>fips</th>\n",
       "      <th>cases</th>\n",
       "      <th>deaths</th>\n",
       "    </tr>\n",
       "  </thead>\n",
       "  <tbody>\n",
       "    <tr>\n",
       "      <th>246</th>\n",
       "      <td>2020-03-01</td>\n",
       "      <td>New York</td>\n",
       "      <td>36</td>\n",
       "      <td>1</td>\n",
       "      <td>0</td>\n",
       "    </tr>\n",
       "    <tr>\n",
       "      <th>261</th>\n",
       "      <td>2020-03-02</td>\n",
       "      <td>New York</td>\n",
       "      <td>36</td>\n",
       "      <td>1</td>\n",
       "      <td>0</td>\n",
       "    </tr>\n",
       "    <tr>\n",
       "      <th>276</th>\n",
       "      <td>2020-03-03</td>\n",
       "      <td>New York</td>\n",
       "      <td>36</td>\n",
       "      <td>2</td>\n",
       "      <td>0</td>\n",
       "    </tr>\n",
       "    <tr>\n",
       "      <th>293</th>\n",
       "      <td>2020-03-04</td>\n",
       "      <td>New York</td>\n",
       "      <td>36</td>\n",
       "      <td>11</td>\n",
       "      <td>0</td>\n",
       "    </tr>\n",
       "    <tr>\n",
       "      <th>313</th>\n",
       "      <td>2020-03-05</td>\n",
       "      <td>New York</td>\n",
       "      <td>36</td>\n",
       "      <td>22</td>\n",
       "      <td>0</td>\n",
       "    </tr>\n",
       "  </tbody>\n",
       "</table>\n",
       "</div>"
      ],
      "text/plain": [
       "          date     state  fips  cases  deaths\n",
       "246 2020-03-01  New York    36      1       0\n",
       "261 2020-03-02  New York    36      1       0\n",
       "276 2020-03-03  New York    36      2       0\n",
       "293 2020-03-04  New York    36     11       0\n",
       "313 2020-03-05  New York    36     22       0"
      ]
     },
     "execution_count": 19,
     "metadata": {},
     "output_type": "execute_result"
    }
   ],
   "source": [
    "df_cases['date'] = pd.to_datetime(df_cases['date'])\n",
    "df_cases_subset = df_cases[df_cases['state'].eq('New York')]\n",
    "df_cases_subset.head()"
   ]
  },
  {
   "cell_type": "code",
   "execution_count": 20,
   "metadata": {
    "id": "4JCKidQDs5y5"
   },
   "outputs": [
    {
     "data": {
      "image/png": "[encoded data removed]",
      "text/plain": [
       "<Figure size 432x288 with 1 Axes>"
      ]
     },
     "metadata": {
      "needs_background": "light"
     },
     "output_type": "display_data"
    }
   ],
   "source": [
    "_ = sns.lineplot(x=df_cases_subset['date'], y=df_cases_subset['cases'])"
   ]
  }
 ],
 "metadata": {
  "colab": {
   "collapsed_sections": [],
   "name": "W4:COVID-19_Mobility-Task.ipynb",
   "provenance": [],
   "toc_visible": true
  },
  "kernelspec": {
   "display_name": "Python 3",
   "language": "python",
   "name": "python3"
  },
  "language_info": {
   "codemirror_mode": {
    "name": "ipython",
    "version": 3
   },
   "file_extension": ".py",
   "mimetype": "text/x-python",
   "name": "python",
   "nbconvert_exporter": "python",
   "pygments_lexer": "ipython3",
   "version": "3.8.0"
  }
 },
 "nbformat": 4,
 "nbformat_minor": 1
}
